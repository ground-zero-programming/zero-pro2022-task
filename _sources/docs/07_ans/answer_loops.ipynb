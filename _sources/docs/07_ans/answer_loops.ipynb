{
 "cells": [
  {
   "cell_type": "markdown",
   "metadata": {},
   "source": [
    "# 第7回：繰り返し処理（解答）\n",
    "\n",
    "担当：相澤宏旭"
   ]
  },
  {
   "cell_type": "markdown",
   "metadata": {},
   "source": [
    "## 演習1:リストの作成\n",
    "以下の値を持つリスト`l`を作成し，`l`の値とデータ型を出力せよ\n",
    "\n",
    "**リストの値**\n",
    "```python\n",
    "1\n",
    "2\n",
    "4\n",
    "8\n",
    "16\n",
    "32\n",
    "64\n",
    "128\n",
    "256\n",
    "512\n",
    "1024\n",
    "```\n",
    "\n",
    "**出力**\n",
    "```python\n",
    "[1, 2, 4, 8, 16, 32, 64, 128, 256, 512, 1024]\n",
    "<class 'list'>\n",
    "```"
   ]
  },
  {
   "cell_type": "code",
   "execution_count": null,
   "metadata": {},
   "outputs": [],
   "source": [
    "# 解答\n",
    "l = [1,2,4,8,16,32,64,128,256,512,1024]\n",
    "print(l)\n",
    "print(type(l))"
   ]
  },
  {
   "cell_type": "markdown",
   "metadata": {},
   "source": [
    "## 演習2:繰り返し処理"
   ]
  },
  {
   "cell_type": "markdown",
   "metadata": {},
   "source": [
    "### 演習2-1:`range`関数を用いたfor文よる繰り返し処理\n",
    "以下の出力結果となるように`range`関数と`for`文を用いて${0,1,2,...,10}$の値を出力する処理を作成せよ\n",
    "\n",
    "**出力**\n",
    "```python\n",
    "0\n",
    "1\n",
    "2\n",
    "3\n",
    "4\n",
    "5\n",
    "6\n",
    "7\n",
    "8\n",
    "9\n",
    "10\n",
    "```"
   ]
  },
  {
   "cell_type": "code",
   "execution_count": null,
   "metadata": {},
   "outputs": [],
   "source": [
    "# 解答\n",
    "for i in range(11):\n",
    "    print(i)"
   ]
  },
  {
   "cell_type": "markdown",
   "metadata": {},
   "source": [
    "### 演習2-2:繰り返し処理と演算\n",
    "演習2-1で作成した繰り返し処理を使って以下の出力結果となる処理を作成せよ\n",
    "\n",
    "**出力**\n",
    "```python\n",
    "1\n",
    "2\n",
    "4\n",
    "8\n",
    "16\n",
    "32\n",
    "64\n",
    "128\n",
    "256\n",
    "512\n",
    "1024\n",
    "```"
   ]
  },
  {
   "cell_type": "code",
   "execution_count": null,
   "metadata": {},
   "outputs": [],
   "source": [
    "# 解答\n",
    "for i in range(11):\n",
    "    a = 2 ** i\n",
    "    print(a)"
   ]
  },
  {
   "cell_type": "markdown",
   "metadata": {},
   "source": [
    "### 演習2-3：リストの作成\n",
    "演習1で作成したリスト`l`と同じリスト`l_loop`を繰り返し処理と`append`関数を用いて作成せよ\n",
    "\n",
    "また作成したリストの値とデータ型を出力せよ\n",
    "\n",
    "**出力**\n",
    "```python\n",
    "[1, 2, 4, 8, 16, 32, 64, 128, 256, 512, 1024]\n",
    "<class 'list'>\n",
    "```"
   ]
  },
  {
   "cell_type": "code",
   "execution_count": null,
   "metadata": {},
   "outputs": [],
   "source": [
    "# 解答\n",
    "l_loop = []\n",
    "for i in range(11):\n",
    "    a = 2 ** i\n",
    "    l_loop.append(a)\n",
    "print(l_loop)\n",
    "print(type(l_loop))"
   ]
  },
  {
   "cell_type": "markdown",
   "metadata": {},
   "source": [
    "### 演習2-4：繰り返し処理と文字列\n",
    "文字列`hiroshima`を作成し，以下の出力結果となるように繰り返し処理を作成せよ．\n",
    "\n",
    "**出力**\n",
    "```python\n",
    "h\n",
    "i\n",
    "r\n",
    "o\n",
    "s\n",
    "h\n",
    "i\n",
    "m\n",
    "a\n",
    "```"
   ]
  },
  {
   "cell_type": "code",
   "execution_count": null,
   "metadata": {},
   "outputs": [],
   "source": [
    "# 解答例\n",
    "ss = 'hiroshima'\n",
    "for s in ss:\n",
    "    print(s)"
   ]
  },
  {
   "cell_type": "markdown",
   "metadata": {},
   "source": [
    "### 演習2-5：繰り返し処理による文字列処理\n",
    "文字列`hiroshima`を作成し，以下の出力結果となるような繰り返し処理を作成せよ．\n",
    "\n",
    "**出力**\n",
    "```python\n",
    "h-1\n",
    "i-2\n",
    "r-3\n",
    "o-4\n",
    "s-5\n",
    "h-6\n",
    "i-7\n",
    "m-8\n",
    "a-9\n",
    "```"
   ]
  },
  {
   "cell_type": "code",
   "execution_count": null,
   "metadata": {},
   "outputs": [],
   "source": [
    "# 解答例\n",
    "ss = 'hiroshima'\n",
    "\n",
    "i = 1\n",
    "for s in ss:\n",
    "    print(f'{s}-{i}')\n",
    "    i = i + 1"
   ]
  },
  {
   "cell_type": "code",
   "execution_count": null,
   "metadata": {},
   "outputs": [],
   "source": [
    "# 解答例\n",
    "ss = 'hiroshima'\n",
    "\n",
    "for i, s in enumerate(ss):\n",
    "    print(f'{s}-{i+1}')"
   ]
  },
  {
   "cell_type": "markdown",
   "metadata": {},
   "source": [
    "### 演習2-6：繰り返し処理による文字列処理\n",
    "文字列`hiroshima`を作成し，以下の出力結果となるような繰り返し処理を作成せよ．\n",
    "\n",
    "**出力**\n",
    "```python\n",
    "h\n",
    "ii\n",
    "rrr\n",
    "oooo\n",
    "sssss\n",
    "hhhhhh\n",
    "iiiiiii\n",
    "mmmmmmmm\n",
    "aaaaaaaaa\n",
    "```"
   ]
  },
  {
   "cell_type": "code",
   "execution_count": null,
   "metadata": {},
   "outputs": [],
   "source": [
    "# 解答例\n",
    "ss = 'hiroshima'\n",
    "\n",
    "i = 1\n",
    "for s in ss:\n",
    "    print(s*i)\n",
    "    i = i + 1"
   ]
  },
  {
   "cell_type": "code",
   "execution_count": null,
   "metadata": {},
   "outputs": [],
   "source": [
    "# 解答例\n",
    "ss = 'hiroshima'\n",
    "\n",
    "for i, s in enumerate(ss):\n",
    "    print(s*(i+1))"
   ]
  },
  {
   "cell_type": "markdown",
   "metadata": {},
   "source": [
    "## 演習3:繰り返し処理と条件分岐\n",
    "### 演習3-1:繰り返し処理と条件分岐\n",
    "以下の出力のように${1,2,...,999}$の数の中で$123$で割り切れる値をすべて出力せよ\n",
    "\n",
    "**出力**\n",
    "```python\n",
    "123\n",
    "246\n",
    "369\n",
    "492\n",
    "615\n",
    "738\n",
    "861\n",
    "984\n",
    "```"
   ]
  },
  {
   "cell_type": "code",
   "execution_count": null,
   "metadata": {},
   "outputs": [],
   "source": [
    "j = 123\n",
    "for i in range(1,1000):\n",
    "    if i % j == 0:\n",
    "        print(i)"
   ]
  },
  {
   "cell_type": "markdown",
   "metadata": {},
   "source": [
    "### 演習3-2:繰り返し処理と条件分岐\n",
    "以下の出力となるような繰り返し処理を作成せよ．ただし，`文字列.upper()`で小文字から大文字へ変換できるとする．\n",
    "\n",
    "**出力**\n",
    "```python\n",
    "h\n",
    "II\n",
    "rrr\n",
    "OOOO\n",
    "sssss\n",
    "HHHHHH\n",
    "iiiiiii\n",
    "MMMMMMMM\n",
    "aaaaaaaaa\n",
    "```"
   ]
  },
  {
   "cell_type": "code",
   "execution_count": null,
   "metadata": {},
   "outputs": [],
   "source": [
    "# サンプルコード\n",
    "s = 'hiroshima'\n",
    "print(s)\n",
    "\n",
    "print(s.upper())"
   ]
  },
  {
   "cell_type": "code",
   "execution_count": null,
   "metadata": {},
   "outputs": [],
   "source": [
    "ss = 'hiroshima'\n",
    "\n",
    "i = 1\n",
    "for s in ss:\n",
    "    if i % 2 == 0:\n",
    "        s_ = s*i\n",
    "        print(s_.upper())\n",
    "    else:\n",
    "        print(s*i)\n",
    "    i = i + 1"
   ]
  },
  {
   "cell_type": "markdown",
   "metadata": {},
   "source": [
    "## 演習4:発展課題\n",
    "これ以降は発展的な演習課題となります． 解くことは必須ではありませんが，条件分岐を応用する良い練習になるので，ぜひチャレンジしてみてください．"
   ]
  },
  {
   "cell_type": "markdown",
   "metadata": {},
   "source": [
    "### 演習4-1: 繰り返し処理による文字出力\n",
    "繰り返し処理を使って以下の出力を得よ．\n",
    "\n",
    "```:python\n",
    "         H\n",
    "        III\n",
    "       RRRRR\n",
    "      OOOOOOO\n",
    "     SSSSSSSSS\n",
    "    HHHHHHHHHHH\n",
    "   IIIIIIIIIIIII\n",
    "  MMMMMMMMMMMMMMM\n",
    " AAAAAAAAAAAAAAAAA\n",
    "```"
   ]
  },
  {
   "cell_type": "code",
   "execution_count": null,
   "metadata": {},
   "outputs": [],
   "source": [
    "# 解答例\n",
    "ss = 'HIROSHIMA'\n",
    "num_ss = len(ss)\n",
    "\n",
    "i = 0\n",
    "for s in ss:\n",
    "    side = ' ' * (num_ss-i)\n",
    "    print(side + s*i + s + s*i)\n",
    "    i = i + 1\n"
   ]
  },
  {
   "cell_type": "markdown",
   "metadata": {},
   "source": [
    "### 演習4-2: 繰り返し処理によるFizzBuzz問題\n",
    "\n",
    "条件分岐の発展課題のFizzBuzz問題を繰り返し処理で拡張する．\n",
    "変数 `number` の値を `1` から `20` まで繰り返し，`number` が\n",
    "\n",
    "- `3` で割り切れて `5` で割り切れないときは「`Fizz`」と出力\n",
    "- `5` で割り切れて `3` で割り切れない時は「`Buzz`」と出力\n",
    "- 両方で割り切れるときは「`FizzBuzz`」と出力\n",
    "- 両方で割り切れないときは，入力した数をそのまま出力\n",
    "\n",
    "とされるような繰り返し処理を実装せよ．\n",
    "\n",
    "出力例は以下である．\n",
    "\n",
    "```:python\n",
    "1\n",
    "2\n",
    "Fizz\n",
    "4\n",
    "Buzz\n",
    "Fizz\n",
    "7\n",
    "8\n",
    "Fizz\n",
    "Buzz\n",
    "11\n",
    "Fizz\n",
    "13\n",
    "14\n",
    "FizzBuzz\n",
    "16\n",
    "17\n",
    "Fizz\n",
    "19\n",
    "Buzz\n",
    "```"
   ]
  },
  {
   "cell_type": "code",
   "execution_count": null,
   "metadata": {},
   "outputs": [],
   "source": [
    "# 解答例\n",
    "for number in range(1,21):\n",
    "    if number % 3 == 0 and number % 5 != 0:\n",
    "        print('Fizz')\n",
    "    elif number % 5 == 0 and number % 3 != 0:\n",
    "        print('Buzz')\n",
    "    elif number % 5 == 0 and number % 3 == 0:\n",
    "        print('FizzBuzz')\n",
    "    else:\n",
    "        print(number)"
   ]
  }
 ],
 "metadata": {
  "kernelspec": {
   "display_name": "Python 3.9.7 64-bit ('3.9.7')",
   "language": "python",
   "name": "python3"
  },
  "language_info": {
   "codemirror_mode": {
    "name": "ipython",
    "version": 3
   },
   "file_extension": ".py",
   "mimetype": "text/x-python",
   "name": "python",
   "nbconvert_exporter": "python",
   "pygments_lexer": "ipython3",
   "version": "3.9.7"
  },
  "orig_nbformat": 4,
  "vscode": {
   "interpreter": {
    "hash": "1dd5fcae8eee6fdb6791d29f7ff02c2b615e0a925eeacb222cc8b7dd54597305"
   }
  }
 },
 "nbformat": 4,
 "nbformat_minor": 2
}
