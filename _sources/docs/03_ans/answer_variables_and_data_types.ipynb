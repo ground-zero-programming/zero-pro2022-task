{
 "cells": [
  {
   "cell_type": "markdown",
   "metadata": {},
   "source": [
    "# 第3回：変数とデータ型（解答）\n",
    "\n",
    "担当：相澤宏旭"
   ]
  },
  {
   "cell_type": "markdown",
   "metadata": {},
   "source": [
    "## 演習1：変数の代入\n",
    "整数`11`を変数`a`に代入せよ"
   ]
  },
  {
   "cell_type": "code",
   "execution_count": null,
   "metadata": {},
   "outputs": [],
   "source": [
    "# 解答\n",
    "a = 11"
   ]
  },
  {
   "cell_type": "markdown",
   "metadata": {},
   "source": [
    "## 演習2：変数の出力\n",
    "`print`文を利用して変数`a`の値を出力せよ\n",
    "\n",
    "**出力例**\n",
    "```python\n",
    "11\n",
    "```"
   ]
  },
  {
   "cell_type": "code",
   "execution_count": null,
   "metadata": {},
   "outputs": [],
   "source": [
    "# 解答\n",
    "print(a)"
   ]
  },
  {
   "cell_type": "markdown",
   "metadata": {},
   "source": [
    "## 演習3：変数の型の確認\n",
    "変数`a`のデータ型を`type`関数を利用して確認せよ\n",
    "\n",
    "**出力例**\n",
    "```python\n",
    "<class 'int'>\n",
    "```"
   ]
  },
  {
   "cell_type": "code",
   "execution_count": null,
   "metadata": {},
   "outputs": [],
   "source": [
    "# 解答\n",
    "print(type(a))"
   ]
  },
  {
   "cell_type": "markdown",
   "metadata": {},
   "source": [
    "## 演習4：数値データの演算"
   ]
  },
  {
   "cell_type": "markdown",
   "metadata": {},
   "source": [
    "### 演習4-1：数値データの和\n",
    "整数値13が格納された変数`a`と整数値4が格納された変数`b`をそれぞれ定義し，`a`と`b`の足し算の結果を出力せよ\n",
    "\n",
    "**出力例**\n",
    "```python\n",
    "17\n",
    "```"
   ]
  },
  {
   "cell_type": "code",
   "execution_count": null,
   "metadata": {},
   "outputs": [],
   "source": [
    "# 解答例 1\n",
    "a = 13\n",
    "b = 4\n",
    "print(a + b)"
   ]
  },
  {
   "cell_type": "code",
   "execution_count": null,
   "metadata": {},
   "outputs": [],
   "source": [
    "# 解答例 2\n",
    "a = 13\n",
    "b = 4\n",
    "c = a + b\n",
    "print(c)"
   ]
  },
  {
   "cell_type": "markdown",
   "metadata": {},
   "source": [
    "### 演習4-2：数値データの差\n",
    "整数値13が格納された変数`a`と整数値4が格納された変数`b`をそれぞれ定義し，`a`から`b`を引いた時の値を出力せよ\n",
    "\n",
    "**出力例**\n",
    "```python\n",
    "9\n",
    "```"
   ]
  },
  {
   "cell_type": "code",
   "execution_count": null,
   "metadata": {},
   "outputs": [],
   "source": [
    "# 解答例 1\n",
    "a = 13\n",
    "b = 4\n",
    "print(a - b)"
   ]
  },
  {
   "cell_type": "code",
   "execution_count": null,
   "metadata": {},
   "outputs": [],
   "source": [
    "# 解答例 2\n",
    "a = 13\n",
    "b = 4\n",
    "c = a - b\n",
    "print(c)"
   ]
  },
  {
   "cell_type": "markdown",
   "metadata": {},
   "source": [
    "### 演習4-3：数値データの積\n",
    "整数値13が格納された変数`a`と整数値4が格納された変数`b`をそれぞれ定義し，`a`と`b`の積の結果を出力せよ\n",
    "\n",
    "**出力例**\n",
    "```python\n",
    "52\n",
    "```"
   ]
  },
  {
   "cell_type": "code",
   "execution_count": null,
   "metadata": {},
   "outputs": [],
   "source": [
    "# 解答例 1\n",
    "a = 13\n",
    "b = 4\n",
    "print(a * b)"
   ]
  },
  {
   "cell_type": "code",
   "execution_count": null,
   "metadata": {},
   "outputs": [],
   "source": [
    "# 解答例 1\n",
    "a = 13\n",
    "b = 4\n",
    "print(a * b)"
   ]
  },
  {
   "cell_type": "markdown",
   "metadata": {},
   "source": [
    "### 演習4-4：数値データの商\n",
    "整数値13が格納された変数`a`と整数値4が格納された変数`b`をそれぞれ定義し，`a`を`b`で割った結果を出力せよ\n",
    "\n",
    "**出力例**\n",
    "```python\n",
    "3.25\n",
    "```"
   ]
  },
  {
   "cell_type": "code",
   "execution_count": null,
   "metadata": {},
   "outputs": [],
   "source": [
    "# 解答例 1\n",
    "a = 13\n",
    "b = 4\n",
    "print(a / b)"
   ]
  },
  {
   "cell_type": "code",
   "execution_count": null,
   "metadata": {},
   "outputs": [],
   "source": [
    "# 解答例 2\n",
    "a = 13\n",
    "b = 4\n",
    "c = a / b\n",
    "print(c)"
   ]
  },
  {
   "cell_type": "markdown",
   "metadata": {},
   "source": [
    "### 演習4-5：数値データの剰余\n",
    "整数値13が格納された変数`a`と整数値4が格納された変数`b`をそれぞれ定義し，`a`を`b`で割ったときの余りを出力せよ\n",
    "\n",
    "**出力例**\n",
    "```python\n",
    "1\n",
    "```"
   ]
  },
  {
   "cell_type": "code",
   "execution_count": null,
   "metadata": {},
   "outputs": [],
   "source": [
    "# 解答例 1\n",
    "a = 13\n",
    "b = 4\n",
    "print(a % b)"
   ]
  },
  {
   "cell_type": "code",
   "execution_count": null,
   "metadata": {},
   "outputs": [],
   "source": [
    "# 解答例 2\n",
    "a = 13\n",
    "b = 4\n",
    "c = a % b\n",
    "print(c)"
   ]
  },
  {
   "cell_type": "markdown",
   "metadata": {},
   "source": [
    "### 演習4-5：数値データの冪乗\n",
    "整数値13が格納された変数`a`と整数値4が格納された変数`b`をそれぞれ定義し，$a^b$の結果を出力せよ\n",
    "\n",
    "**出力例**\n",
    "```python\n",
    "28561\n",
    "```"
   ]
  },
  {
   "cell_type": "code",
   "execution_count": null,
   "metadata": {},
   "outputs": [],
   "source": [
    "# 解答例 1\n",
    "a = 13\n",
    "b = 4\n",
    "print(a ** b)"
   ]
  },
  {
   "cell_type": "code",
   "execution_count": null,
   "metadata": {},
   "outputs": [],
   "source": [
    "# 解答例 2\n",
    "a = 13\n",
    "b = 4\n",
    "c = a ** b\n",
    "print(c)"
   ]
  },
  {
   "cell_type": "markdown",
   "metadata": {},
   "source": [
    "## 演習5：文字列\n",
    "### 演習5-1：文字列の代入と出力\n",
    "文字列`Ground Zero Programming!`が格納された変数`s`を定義し，変数の中身とデータ型を出力せよ\n",
    "\n",
    "**出力例**\n",
    "```python\n",
    "Ground Zero Programming!\n",
    "<class 'str'>\n",
    "```"
   ]
  },
  {
   "cell_type": "code",
   "execution_count": null,
   "metadata": {},
   "outputs": [],
   "source": [
    "# 解答\n",
    "s = 'Ground Zero Programming!'\n",
    "print(s)\n",
    "print(type(s))"
   ]
  },
  {
   "cell_type": "markdown",
   "metadata": {},
   "source": [
    "### 演習5-2：文字数の取得\n",
    "演習5-1で定義した変数`s`の文字数を出力せよ\n",
    "\n",
    "**出力例**\n",
    "```python\n",
    "24\n",
    "```"
   ]
  },
  {
   "cell_type": "code",
   "execution_count": null,
   "metadata": {},
   "outputs": [],
   "source": [
    "# 解答\n",
    "s = 'Ground Zero Programming!'\n",
    "print(len(s))"
   ]
  },
  {
   "cell_type": "markdown",
   "metadata": {},
   "source": [
    "### 演習5-3：文字列のインデキシング\n",
    "演習5-1で定義した変数`s`についてインデキシングを利用して`G`，`Z`，`P`，`!`を出力せよ\n",
    "\n",
    "**出力例**\n",
    "```python\n",
    "G\n",
    "Z\n",
    "P\n",
    "!\n",
    "```"
   ]
  },
  {
   "cell_type": "code",
   "execution_count": null,
   "metadata": {},
   "outputs": [],
   "source": [
    "# 解答\n",
    "s = 'Ground Zero Programming!'\n",
    "print(s[0])\n",
    "print(s[7])\n",
    "print(s[12])\n",
    "print(s[-1])"
   ]
  },
  {
   "cell_type": "markdown",
   "metadata": {},
   "source": [
    "### 演習5-4：文字列のスライシング\n",
    "演習5-1で定義した変数`s`についてスライシングを利用して`Zero`を出力せよ\n",
    "\n",
    "**出力例**\n",
    "```python\n",
    "Zero\n",
    "```"
   ]
  },
  {
   "cell_type": "code",
   "execution_count": null,
   "metadata": {},
   "outputs": [],
   "source": [
    "# 解答\n",
    "s = 'Ground Zero Programming!'\n",
    "print(s[7:12])"
   ]
  },
  {
   "cell_type": "markdown",
   "metadata": {},
   "source": [
    "## 演習6：リスト"
   ]
  },
  {
   "cell_type": "markdown",
   "metadata": {},
   "source": [
    "### 演習6-1：リストの作成\n",
    "以下の4つの値を持つリスト `l` を作成し，`l`の値とデータ型を出力せよ\n",
    "\n",
    "**値**\n",
    "```python\n",
    "27.4\n",
    "29.0\n",
    "33.8\n",
    "30.1\n",
    "```\n",
    "\n",
    "**出力例**\n",
    "```python\n",
    "[27.4, 29.0, 33.8, 30.1]\n",
    "<class 'list'>\n",
    "```"
   ]
  },
  {
   "cell_type": "code",
   "execution_count": null,
   "metadata": {},
   "outputs": [],
   "source": [
    "# 解答\n",
    "l = [27.4, 29.0, 33.8, 30.1]\n",
    "print(l)\n",
    "print(type(l))"
   ]
  },
  {
   "cell_type": "markdown",
   "metadata": {},
   "source": [
    "### 演習6-2：リストの要素数の計算\n",
    "演習6-1で定義したリスト`l`の要素数を出力せよ\n",
    "\n",
    "**出力例**\n",
    "```python\n",
    "4\n",
    "```"
   ]
  },
  {
   "cell_type": "code",
   "execution_count": null,
   "metadata": {},
   "outputs": [],
   "source": [
    "# 解答\n",
    "print(len(l))"
   ]
  },
  {
   "cell_type": "markdown",
   "metadata": {},
   "source": [
    "### 演習6-3：リストのインデキシング\n",
    "演習6-1で定義したリスト`l`に含まれる値`33.8`をインデキシングを利用して出力せよ\n",
    "\n",
    "**出力例**\n",
    "```python\n",
    "33.8\n",
    "```"
   ]
  },
  {
   "cell_type": "code",
   "execution_count": null,
   "metadata": {},
   "outputs": [],
   "source": [
    "# 解答\n",
    "print(l[2])"
   ]
  },
  {
   "cell_type": "markdown",
   "metadata": {},
   "source": [
    "### 演習6-4：リストのスライシング\n",
    "演習6-1で定義したリスト`l`に含まれる2つの値`29.0`と`33.8`をスライシングを利用して出力せよ\n",
    "\n",
    "**出力例**\n",
    "```python\n",
    "[29.0, 33.8]\n",
    "```"
   ]
  },
  {
   "cell_type": "code",
   "execution_count": null,
   "metadata": {},
   "outputs": [],
   "source": [
    "# 解答\n",
    "print(l[1:3])"
   ]
  }
 ],
 "metadata": {
  "kernelspec": {
   "display_name": "Python 3.8.8 ('py38-ml')",
   "language": "python",
   "name": "python3"
  },
  "language_info": {
   "codemirror_mode": {
    "name": "ipython",
    "version": 3
   },
   "file_extension": ".py",
   "mimetype": "text/x-python",
   "name": "python",
   "nbconvert_exporter": "python",
   "pygments_lexer": "ipython3",
   "version": "3.8.8"
  },
  "orig_nbformat": 4,
  "vscode": {
   "interpreter": {
    "hash": "393df73654aeede13ebb91076020de1190a2bd60e987ac18d822283f0caa6730"
   }
  }
 },
 "nbformat": 4,
 "nbformat_minor": 2
}
